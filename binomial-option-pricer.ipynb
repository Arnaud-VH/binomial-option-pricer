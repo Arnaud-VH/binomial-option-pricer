{
 "cells": [
  {
   "cell_type": "markdown",
   "id": "3e1583c6",
   "metadata": {},
   "source": [
    "# Binomial Option Pricer\n",
    "- By Davide Onorio, Nicolas, and Arnaud Van Hees"
   ]
  },
  {
   "cell_type": "markdown",
   "id": "e595ccdb",
   "metadata": {},
   "source": [
    "### Project Parts\n",
    "1. Introduction\n",
    "2. Theoretical Background of option pricing\n",
    "3. Imports\n",
    "4. CRR Option Pricer implementation\n",
    "5. Small Bionomial Tree Visualisation\n",
    "6. Example with real market data\n",
    "   1. Using Yahoo Finance (Pre-defined)\n",
    "   2. Letting user decide on stocks (User Input)\n",
    "\n",
    "Possible Extensions:\n",
    "\n",
    "7. American Options\n",
    "8. Adding Dividends\n",
    "9. GUI with sliders\n",
    "10. Convergence to Black-Scholes\n",
    "\n"
   ]
  }
 ],
 "metadata": {
  "kernelspec": {
   "display_name": "venv",
   "language": "python",
   "name": "python3"
  },
  "language_info": {
   "codemirror_mode": {
    "name": "ipython",
    "version": 3
   },
   "file_extension": ".py",
   "mimetype": "text/x-python",
   "name": "python",
   "nbconvert_exporter": "python",
   "pygments_lexer": "ipython3",
   "version": "3.9.5"
  }
 },
 "nbformat": 4,
 "nbformat_minor": 5
}
